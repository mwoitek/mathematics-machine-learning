{
 "cells": [
  {
   "cell_type": "markdown",
   "metadata": {},
   "source": [
    "# Distances and Angles between Images\n",
    "\n",
    "We are going to compute distances and angles between images.\n",
    "\n",
    "## Learning objectives\n",
    "By the end of this notebook, you will learn to\n",
    "\n",
    "1. Write programs to compute distance.\n",
    "2. Write programs to compute angle.\n",
    "\n",
    "\"distance\" and \"angle\" are useful beyond their usual interpretation. They are\n",
    "useful for describing __similarity__ between objects. You will\n",
    "first use the functions you wrote to compare MNIST digits. Furthermore, we will\n",
    "use these concepts for implementing the K Nearest Neighbors algorithm, which is\n",
    "a useful algorithm for classifying object according to distance."
   ]
  },
  {
   "cell_type": "code",
   "execution_count": null,
   "metadata": {},
   "outputs": [],
   "source": [
    "# PACKAGE: DO NOT EDIT THIS CELL\n",
    "import numpy as np\n",
    "import scipy"
   ]
  },
  {
   "cell_type": "code",
   "execution_count": null,
   "metadata": {},
   "outputs": [],
   "source": [
    "import matplotlib as mpl\n",
    "import matplotlib.pyplot as plt\n",
    "import sklearn\n",
    "from ipywidgets import interact\n",
    "from load_data import load_mnist\n",
    "from numpy.testing import assert_allclose\n",
    "\n",
    "%matplotlib inline\n",
    "%config InlineBackend.figure_format = 'svg'"
   ]
  },
  {
   "cell_type": "markdown",
   "metadata": {},
   "source": [
    "The next cell loads the MNIST digits dataset."
   ]
  },
  {
   "cell_type": "code",
   "execution_count": null,
   "metadata": {},
   "outputs": [],
   "source": [
    "MNIST = load_mnist('./')\n",
    "images = MNIST['data'].astype(np.double)\n",
    "labels = MNIST['target'].astype(np.int)"
   ]
  },
  {
   "cell_type": "markdown",
   "metadata": {},
   "source": [
    "For this assignment, you need to implement the two functions (`distance` and\n",
    "`angle`) in the cell below which compute the distance and angle between two\n",
    "vectors.\n",
    "\n",
    "### Distances"
   ]
  },
  {
   "cell_type": "code",
   "execution_count": null,
   "metadata": {},
   "outputs": [],
   "source": [
    "# GRADED FUNCTION: DO NOT EDIT THIS LINE\n",
    "def distance(x0, x1):\n",
    "    \"\"\"Compute the distance between two vectors using the dot product.\n",
    "\n",
    "    Arguments:\n",
    "        x0: Array of shape (D,).\n",
    "        x1: Array of shape (D,).\n",
    "\n",
    "    Returns:\n",
    "        dist: Distance between x0 and x1.\n",
    "    \"\"\"\n",
    "\n",
    "    # Compute the distance using the dot product:\n",
    "    dist = np.square(np.subtract(x0, x1))\n",
    "    dist = np.sqrt(np.sum(dist))\n",
    "\n",
    "    return dist"
   ]
  },
  {
   "cell_type": "code",
   "execution_count": null,
   "metadata": {},
   "outputs": [],
   "source": [
    "# Test the implementation of 'distance':\n",
    "\n",
    "# Test case 1:\n",
    "a = np.array([1, 0])\n",
    "b = np.array([0, 1])\n",
    "assert_allclose(distance(a, b), np.sqrt(2), rtol=1e-7)\n",
    "\n",
    "# Test case 2:\n",
    "b = np.array([1., np.sqrt(3)])\n",
    "assert_allclose(distance(a, b), np.sqrt(3), rtol=1e-7)"
   ]
  },
  {
   "cell_type": "markdown",
   "metadata": {},
   "source": [
    "### Angles"
   ]
  },
  {
   "cell_type": "code",
   "execution_count": null,
   "metadata": {},
   "outputs": [],
   "source": [
    "# GRADED FUNCTION: DO NOT EDIT THIS LINE\n",
    "def angle(x0, x1):\n",
    "    \"\"\"Compute the angle between two vectors using the dot product.\n",
    "\n",
    "    Arguments:\n",
    "        x0: Array of shape (D,).\n",
    "        x1: Array of shape (D,).\n",
    "\n",
    "    Returns:\n",
    "        ang: Angle between x0 and x1.\n",
    "    \"\"\"\n",
    "\n",
    "    # Reshape x0 and x1:\n",
    "    D = len(x0)\n",
    "    x0_rsh = x0.reshape((D, 1))\n",
    "    x1_rsh = x1.reshape((D, 1))\n",
    "\n",
    "    # Compute the dot product of x0 and x1:\n",
    "    dot_prod = np.matmul(np.transpose(x0_rsh), x1_rsh)\n",
    "    dot_prod = float(dot_prod)\n",
    "\n",
    "    # Compute the norm of x0:\n",
    "    norm_0 = np.sqrt(np.matmul(np.transpose(x0_rsh), x0_rsh))\n",
    "    norm_0 = float(norm_0)\n",
    "\n",
    "    # Compute the norm of x1:\n",
    "    norm_1 = np.sqrt(np.matmul(np.transpose(x1_rsh), x1_rsh))\n",
    "    norm_1 = float(norm_1)\n",
    "\n",
    "    # Compute the angle between x0 and x1:\n",
    "    ang = np.arccos(dot_prod / (norm_0 * norm_1))\n",
    "\n",
    "    return ang"
   ]
  },
  {
   "cell_type": "code",
   "execution_count": null,
   "metadata": {},
   "outputs": [],
   "source": [
    "# Test the implementation of 'angle':\n",
    "\n",
    "# Test case 1:\n",
    "b = np.array([0, 1])\n",
    "assert_allclose((180 / np.pi) * angle(a, b), 90)\n",
    "\n",
    "# Test case 2:\n",
    "b = np.array([1., np.sqrt(3)])\n",
    "assert_allclose((180 / np.pi) * angle(a, b), 60, rtol=1e-4)"
   ]
  },
  {
   "cell_type": "markdown",
   "metadata": {},
   "source": [
    "We have created some helper functions for you to visualize vectors in the cells\n",
    "below. You do not need to modify them."
   ]
  },
  {
   "cell_type": "code",
   "execution_count": null,
   "metadata": {},
   "outputs": [],
   "source": [
    "def plot_vector(v, w):\n",
    "    \"\"\"Plot two 2D vectors.\"\"\"\n",
    "    fig = plt.figure(figsize=(4, 4))\n",
    "    ax = fig.gca()\n",
    "    plt.xlim([-2, 2])\n",
    "    plt.ylim([-2, 2])\n",
    "    plt.grid()\n",
    "    ax.arrow(\n",
    "        0, 0, v[0], v[1], head_width=0.05, head_length=0.1,\n",
    "        length_includes_head=True, linewidth=2, color='r'\n",
    "    );\n",
    "    ax.arrow(\n",
    "        0, 0, w[0], w[1], head_width=0.05, head_length=0.1,\n",
    "        length_includes_head=True, linewidth=2, color='r'\n",
    "    );"
   ]
  },
  {
   "cell_type": "code",
   "execution_count": null,
   "metadata": {},
   "outputs": [],
   "source": [
    "b = np.array([0, 1])\n",
    "plot_vector(a, b)"
   ]
  },
  {
   "cell_type": "code",
   "execution_count": null,
   "metadata": {},
   "outputs": [],
   "source": [
    "# Symmetry tests:\n",
    "random = np.random.RandomState(42)\n",
    "for _ in range(10):\n",
    "    x = random.randn(3)\n",
    "    y = random.randn(3)\n",
    "    assert_allclose(distance(x, y), distance(y, x))\n",
    "    assert_allclose(angle(x, y), angle(y, x), rtol=1e-4)"
   ]
  },
  {
   "cell_type": "markdown",
   "metadata": {},
   "source": [
    "The next cell shows some digits from the dataset."
   ]
  },
  {
   "cell_type": "code",
   "execution_count": null,
   "metadata": {},
   "outputs": [],
   "source": [
    "plt.imshow(images[labels==0].reshape(-1, 28, 28)[0], cmap='gray');"
   ]
  },
  {
   "cell_type": "markdown",
   "metadata": {},
   "source": [
    "But we have the following questions:\n",
    "\n",
    "1. What does it mean for two digits in the MNIST dataset to be _different_ by\n",
    "our distance function?\n",
    "2. Furthermore, how are different classes of digits different for MNIST digits?\n",
    "Let's find out!\n",
    "\n",
    "For the first question, we can see just how the distance between digits compare\n",
    "among all distances for\n",
    "the first 500 digits. The next cell computes pairwise distances between images."
   ]
  },
  {
   "cell_type": "code",
   "execution_count": null,
   "metadata": {},
   "outputs": [],
   "source": [
    "distances = [distance(images[i], images[j]) for i in range(500) for j in range(500)]"
   ]
  },
  {
   "cell_type": "code",
   "execution_count": null,
   "metadata": {},
   "outputs": [],
   "source": [
    "@interact(first=(0, 499), second=(0, 499), continuous_update=False)\n",
    "def show_img(first, second):\n",
    "    plt.figure(figsize=(8, 4))\n",
    "    f = images[first].reshape(28, 28)\n",
    "    s = images[second].reshape(28, 28)\n",
    "    ax0 = plt.subplot2grid((2, 2), (0, 0))\n",
    "    ax1 = plt.subplot2grid((2, 2), (1, 0))\n",
    "    ax2 = plt.subplot2grid((2, 2), (0, 1), rowspan=2)\n",
    "    ax0.imshow(f, cmap='gray')\n",
    "    ax1.imshow(s, cmap='gray')\n",
    "    ax2.hist(np.array(distances), bins=50)\n",
    "    d = distance(f.ravel(), s.ravel())\n",
    "    ax2.axvline(x=d, ymin=0, ymax=40000, color='C4', linewidth=4)\n",
    "    ax2.text(0, 16000, 'Distance is {:.2f}'.format(d), size=12)\n",
    "    ax2.set(xlabel='Distance', ylabel='Number of images')\n",
    "    plt.show()"
   ]
  },
  {
   "cell_type": "markdown",
   "metadata": {},
   "source": [
    "Next we will find the index of the most similar image to the image at index 0.\n",
    "We will do this by writing some code in another cell.\n",
    "\n",
    "Write some code in this scratch cell below to find out the most similar image"
   ]
  },
  {
   "cell_type": "code",
   "execution_count": null,
   "metadata": {},
   "outputs": [],
   "source": [
    "# Scratch cell for you to compute the index of the most similar image:\n",
    "distances = np.array([distance(images[0], images[i]) for i in range(1, 500)])\n",
    "print(np.argmin(distances) + 1) # Add one since we excluded the 0th image."
   ]
  },
  {
   "cell_type": "markdown",
   "metadata": {},
   "source": [
    "Then copy the solution you found (an index value) and replace the -1 in the\n",
    "function `most_similar_image` with this value. Don't perform any computation in\n",
    "the next cell that accesses the dataset as the autograder will not have access\n",
    "to the dataset and will raise an error."
   ]
  },
  {
   "cell_type": "code",
   "execution_count": null,
   "metadata": {},
   "outputs": [],
   "source": [
    "# GRADED FUNCTION: DO NOT EDIT THIS LINE\n",
    "def most_similar_image():\n",
    "    \"\"\"Find the index of the digit, among all MNIST digits (excluding the\n",
    "       first), that is the closest to the first image in the dataset.\"\"\"\n",
    "    idx = 61\n",
    "    return idx"
   ]
  },
  {
   "cell_type": "markdown",
   "metadata": {},
   "source": [
    "For the second question, we can compute a `mean` image for each class of image,\n",
    "i.e. we compute mean image for digits of `1`, `2`, `3`,..., `9`, then we compute\n",
    "pairwise distance between them. We can organize the pairwise distances in a 2D\n",
    "plot, which would allow us to visualize the dissimilarity between images of\n",
    "different classes.\n",
    "\n",
    "First we compute the mean for digits of each class."
   ]
  },
  {
   "cell_type": "code",
   "execution_count": null,
   "metadata": {},
   "outputs": [],
   "source": [
    "mean_images = {}\n",
    "for n in np.unique(labels):\n",
    "    mean_images[n] = np.mean(images[labels==n], axis=0)"
   ]
  },
  {
   "cell_type": "markdown",
   "metadata": {},
   "source": [
    "For each pair of classes, we compute the pairwise distance and\n",
    "store them into MD (mean distances). We store the angles between the mean digits\n",
    "in AG"
   ]
  },
  {
   "cell_type": "code",
   "execution_count": null,
   "metadata": {},
   "outputs": [],
   "source": [
    "MD = np.zeros((10, 10))\n",
    "AG = np.zeros((10, 10))\n",
    "for i in mean_images.keys():\n",
    "    for j in mean_images.keys():\n",
    "        MD[i, j] = distance(mean_images[i], mean_images[j])\n",
    "        AG[i, j] = angle(mean_images[i].ravel(), mean_images[j].ravel())"
   ]
  },
  {
   "cell_type": "markdown",
   "metadata": {},
   "source": [
    "Now we can visualize the distances! Here we put the pairwise distances. The\n",
    "colorbar\n",
    "shows how the distances map to color intensity."
   ]
  },
  {
   "cell_type": "code",
   "execution_count": null,
   "metadata": {},
   "outputs": [],
   "source": [
    "fig, ax = plt.subplots()\n",
    "grid = ax.imshow(MD, interpolation='nearest')\n",
    "ax.set(\n",
    "    title='Distances between different classes of digits',\n",
    "    xlabel='Class of digits',\n",
    "    xticks=range(10),\n",
    "    ylabel='Class of digits',\n",
    "    yticks=range(10)\n",
    ")\n",
    "fig.colorbar(grid)\n",
    "plt.show();"
   ]
  },
  {
   "cell_type": "markdown",
   "metadata": {},
   "source": [
    "Similarly for the angles."
   ]
  },
  {
   "cell_type": "code",
   "execution_count": null,
   "metadata": {},
   "outputs": [],
   "source": [
    "fig, ax = plt.subplots()\n",
    "grid = ax.imshow(AG, interpolation='nearest')\n",
    "ax.set(\n",
    "    title='Angles between different classes of digits',\n",
    "    xlabel='Class of digits',\n",
    "    xticks=range(10),\n",
    "    ylabel='Class of digits',\n",
    "    yticks=range(10)\n",
    ")\n",
    "fig.colorbar(grid)\n",
    "plt.show();"
   ]
  }
 ],
 "metadata": {},
 "nbformat": 4,
 "nbformat_minor": 4
}
