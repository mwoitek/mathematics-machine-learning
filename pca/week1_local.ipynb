{
 "cells": [
  {
   "cell_type": "markdown",
   "metadata": {},
   "source": [
    "# Week 1: Mean/Covariance of a data set and effect of a linear transformation\n",
    "\n",
    "In this week, we are going to investigate how the mean and (co)variance of a\n",
    "dataset changes\n",
    "when we apply affine transformation to the dataset.\n",
    "\n",
    "## Learning objectives\n",
    "1. Get Farmiliar with basic programming using Python and Numpy/Scipy.\n",
    "2. Learn to appreciate implementing\n",
    "   functions to compute statistics of dataset in vectorized way.\n",
    "3. Understand the effects of affine transformations on a dataset.\n",
    "4. Understand the importance of testing in programming for machine learning.\n",
    "\n",
    "First, let's import the packages that we will use for the week"
   ]
  },
  {
   "cell_type": "code",
   "execution_count": null,
   "metadata": {},
   "outputs": [],
   "source": [
    "# PACKAGE: DO NOT EDIT THIS CELL\n",
    "import matplotlib\n",
    "import matplotlib.pyplot as plt\n",
    "import numpy as np\n",
    "import time\n",
    "import timeit\n",
    "from numpy.testing import assert_allclose\n",
    "from sklearn.datasets import fetch_olivetti_faces\n",
    "matplotlib.style.use('fivethirtyeight')\n",
    "%matplotlib inline"
   ]
  },
  {
   "cell_type": "markdown",
   "metadata": {},
   "source": [
    "Next, we are going to retrieve Olivetti faces dataset.\n",
    "\n",
    "When working with some datasets, before digging into further analysis, it is\n",
    "almost always\n",
    "useful to do a few things to understand your dataset. First of all, answer the\n",
    "following\n",
    "set of questions:\n",
    "\n",
    "1. What is the size of your dataset?\n",
    "2. What is the dimensionality of your data?\n",
    "\n",
    "The dataset we have are usually stored as 2D matrices, then it would be really\n",
    "important\n",
    "to know which dimension represents the dimension of the dataset, and which\n",
    "represents\n",
    "the data points in the dataset.\n",
    "\n",
    "__When you implement the functions for your assignment, make sure you read\n",
    "the docstring for what each dimension of your inputs represents the data points,\n",
    "and which\n",
    "represents the dimensions of the dataset!__"
   ]
  },
  {
   "cell_type": "code",
   "execution_count": null,
   "metadata": {},
   "outputs": [],
   "source": [
    "# Load faces data:\n",
    "dataset = fetch_olivetti_faces(data_home='./')\n",
    "faces = dataset.data\n",
    "\n",
    "image_shape = (64, 64)\n",
    "\n",
    "print(f'Shape of the faces dataset: {faces.shape}')\n",
    "print(f'{faces.shape[0]} data points')"
   ]
  },
  {
   "cell_type": "markdown",
   "metadata": {},
   "source": [
    "When your dataset are images, it's a really good idea to see what they look\n",
    "like.\n",
    "\n",
    "One very\n",
    "convenient tool in Jupyter is the `interact` widget, which we use to visualize\n",
    "the images (faces). For more information on how to use interact, have a look at\n",
    "the documentation\n",
    "[here](http://ipywidgets.readthedocs.io/en/stable/examples/Using%20Interact.html)."
   ]
  },
  {
   "cell_type": "code",
   "execution_count": null,
   "metadata": {},
   "outputs": [],
   "source": [
    "from ipywidgets import interact"
   ]
  },
  {
   "cell_type": "code",
   "execution_count": null,
   "metadata": {},
   "outputs": [],
   "source": [
    "def show_face(face):\n",
    "    plt.figure()\n",
    "    plt.imshow(face.reshape(image_shape), cmap='gray')\n",
    "    plt.show()"
   ]
  },
  {
   "cell_type": "code",
   "execution_count": null,
   "metadata": {},
   "outputs": [],
   "source": [
    "@interact(n=(0, len(faces) - 1))\n",
    "def display_faces(n=0):\n",
    "    plt.figure()\n",
    "    plt.imshow(faces[n].reshape(image_shape), cmap='gray')\n",
    "    plt.show()"
   ]
  },
  {
   "cell_type": "markdown",
   "metadata": {},
   "source": [
    "## 1. Mean and Covariance of a Dataset"
   ]
  },
  {
   "cell_type": "code",
   "execution_count": null,
   "metadata": {},
   "outputs": [],
   "source": [
    "# GRADED FUNCTION: DO NOT EDIT THIS LINE\n",
    "def mean_naive(X):\n",
    "    \"\"\"Compute the sample mean for a dataset by iterating over the dataset.\n",
    "\n",
    "    Arguments:\n",
    "        X: Array of shape (N, D) representing the dataset.\n",
    "           N is the size of the dataset, and D is the dimensionality of the dataset.\n",
    "\n",
    "    Returns:\n",
    "        mu: Array of shape (D,). Sample mean of the dataset X.\n",
    "    \"\"\"\n",
    "\n",
    "    # Size of the dataset:\n",
    "    N = X.shape[0]\n",
    "\n",
    "    # Dimensionality of the dataset:\n",
    "    D = X.shape[1]\n",
    "\n",
    "    # Initialize the array corresponding to the mean:\n",
    "    mu = np.zeros((D,))\n",
    "\n",
    "    # Iterate over the dataset, and compute the mean:\n",
    "    for i in range(N):\n",
    "        mu += X[i, :]\n",
    "    mu /= N\n",
    "\n",
    "    return mu\n",
    "\n",
    "\n",
    "def cov_naive(X):\n",
    "    \"\"\"Compute the sample covariance for a dataset by iterating over the dataset.\n",
    "\n",
    "    Arguments:\n",
    "        X: Array of shape (N, D) representing the dataset.\n",
    "           N is the size of the dataset, and D is the dimensionality of the dataset.\n",
    "\n",
    "    Returns:\n",
    "        covariance: Array of shape (D, D). Sample covariance of the dataset X.\n",
    "    \"\"\"\n",
    "\n",
    "    # Size of the dataset:\n",
    "    N = X.shape[0]\n",
    "\n",
    "    # Dimensionality of the dataset:\n",
    "    D = X.shape[1]\n",
    "\n",
    "    # Compute the mean:\n",
    "    mu = mean_naive(X)\n",
    "\n",
    "    # Initialize the covariance matrix:\n",
    "    covariance = np.zeros((D, D))\n",
    "\n",
    "    # Iterate over the dataset, and compute the covariance matrix:\n",
    "    for j in range(D):\n",
    "        for k in range(D):\n",
    "            for i in range(N):\n",
    "                covariance[j, k] += X[i, j] * X[i, k]\n",
    "            covariance[j, k] -= N * mu[j] * mu[k]\n",
    "    covariance /= N\n",
    "\n",
    "    return covariance\n",
    "\n",
    "\n",
    "def mean(X):\n",
    "    \"\"\"Compute the sample mean for a dataset.\n",
    "\n",
    "    Arguments:\n",
    "        X: Array of shape (N, D) representing the dataset.\n",
    "           N is the size of the dataset, and D is the dimensionality of the dataset.\n",
    "\n",
    "    Returns:\n",
    "        mu: Array of shape (D,). Sample mean of the dataset X.\n",
    "    \"\"\"\n",
    "\n",
    "    # Size of the dataset:\n",
    "    N = X.shape[0]\n",
    "\n",
    "    # Compute the mean:\n",
    "    mu = np.sum(X, axis=0) / N\n",
    "\n",
    "    return mu\n",
    "\n",
    "\n",
    "def cov(X):\n",
    "    \"\"\"Compute the sample covariance for a dataset.\n",
    "\n",
    "    Arguments:\n",
    "        X: Array of shape (N, D) representing the dataset.\n",
    "           N is the size of the dataset, and D is the dimensionality of the dataset.\n",
    "\n",
    "    Returns:\n",
    "        covariance: Array of shape (D, D). Sample covariance of the dataset X.\n",
    "    \"\"\"\n",
    "\n",
    "    # Size of the dataset:\n",
    "    N = X.shape[0]\n",
    "\n",
    "    # Dimensionality of the dataset:\n",
    "    D = X.shape[1]\n",
    "\n",
    "    # Compute the mean:\n",
    "    mu = mean(X).reshape((1, D))\n",
    "\n",
    "    # Compute the covariance matrix:\n",
    "    covariance = np.matmul(np.transpose(X), X)\n",
    "    covariance -= N * np.matmul(np.transpose(mu), mu)\n",
    "    covariance /= N\n",
    "\n",
    "    return covariance"
   ]
  },
  {
   "cell_type": "code",
   "execution_count": null,
   "metadata": {},
   "outputs": [],
   "source": [
    "# Test the implementation of 'mean':\n",
    "\n",
    "# Test case 1:\n",
    "X = np.array([[0., 1., 1.],\n",
    "              [1., 2., 1.]])\n",
    "expected_mean = np.array([0.5, 1.5, 1.])\n",
    "assert_allclose(mean(X), expected_mean, rtol=1e-5)\n",
    "\n",
    "# Test case 2:\n",
    "X = np.array([[0., 1., 0.],\n",
    "              [2., 3., 1.]])\n",
    "expected_mean = np.array([1., 2., 0.5])\n",
    "assert_allclose(mean(X), expected_mean, rtol=1e-5)\n",
    "\n",
    "# Test case 3:\n",
    "X = np.array([[0., 1.],\n",
    "              [0., 1.]])\n",
    "expected_mean = np.array([0., 1.])\n",
    "assert_allclose(mean(X), expected_mean, rtol=1e-5)"
   ]
  },
  {
   "cell_type": "code",
   "execution_count": null,
   "metadata": {},
   "outputs": [],
   "source": [
    "cov(np.array([[0., 1.],\n",
    "              [1., 2.],\n",
    "              [0., 1.],\n",
    "              [1., 2.]]))"
   ]
  },
  {
   "cell_type": "code",
   "execution_count": null,
   "metadata": {},
   "outputs": [],
   "source": [
    "# Test the implementation of 'cov':\n",
    "\n",
    "# Test case 1:\n",
    "X = np.array([[0., 1.],\n",
    "              [1., 2.],\n",
    "              [0., 1.],\n",
    "              [1., 2.]])\n",
    "expected_cov = np.array([[0.25, 0.25],\n",
    "                         [0.25, 0.25]])\n",
    "assert_allclose(cov(X), expected_cov, rtol=1e-5)\n",
    "\n",
    "# Test case 2:\n",
    "X = np.array([[0., 1.],\n",
    "              [2., 3.]])\n",
    "expected_cov = np.array([[1., 1.],\n",
    "                         [1., 1.]])\n",
    "assert_allclose(cov(X), expected_cov, rtol=1e-5)\n",
    "\n",
    "# Test case 3:\n",
    "X = np.array([[0., 1.],\n",
    "              [0., 1.],\n",
    "              [0., 1.]])\n",
    "expected_cov = np.zeros((2, 2))\n",
    "assert_allclose(cov(X), expected_cov, rtol=1e-5)"
   ]
  },
  {
   "cell_type": "markdown",
   "metadata": {},
   "source": [
    "With the `mean` function implemented, let's take a look at the _mean_ face of\n",
    "our dataset!"
   ]
  },
  {
   "cell_type": "code",
   "execution_count": null,
   "metadata": {},
   "outputs": [],
   "source": [
    "def mean_face(faces):\n",
    "    return faces.mean(axis=0).reshape(image_shape)\n",
    "\n",
    "\n",
    "plt.imshow(mean_face(faces), cmap='gray');"
   ]
  },
  {
   "cell_type": "markdown",
   "metadata": {},
   "source": [
    "One of the advantage of writing vectorized code is speedup gained when working\n",
    "on larger dataset. Loops in Python\n",
    "are slow, and most of the time you want to utilise the fast native code provided\n",
    "by Numpy without explicitly using\n",
    "for loops. To put things into perspective, we can benchmark the two different\n",
    "implementation with the `%time` function\n",
    "in the following way:"
   ]
  },
  {
   "cell_type": "code",
   "execution_count": null,
   "metadata": {},
   "outputs": [],
   "source": [
    "X = np.random.randn(1000, 20)\n",
    "\n",
    "# Benchmarking the time for computing the mean:\n",
    "%time mean_naive(X)\n",
    "%time mean(X)\n",
    "pass"
   ]
  },
  {
   "cell_type": "code",
   "execution_count": null,
   "metadata": {},
   "outputs": [],
   "source": [
    "# Benchmarking the time for computing the covariance:\n",
    "%time cov_naive(X)\n",
    "%time cov(X)\n",
    "pass"
   ]
  },
  {
   "cell_type": "markdown",
   "metadata": {},
   "source": [
    "## 2. Affine Transformation of Dataset\n",
    "In this week we are also going to verify a few properties about the mean and\n",
    "covariance of affine transformation of random variables.\n",
    "\n",
    "Consider a data matrix $X$ of size (N, D). We would like to know\n",
    "what is the covariance when we apply affine transformation $Ax_i + b$ for each\n",
    "datapoint $x_i$ in $X$. i.e.\n",
    "we would like to know what happens to the mean and covariance for the new\n",
    "dataset if we apply affine transformation."
   ]
  },
  {
   "cell_type": "code",
   "execution_count": null,
   "metadata": {},
   "outputs": [],
   "source": [
    "# GRADED FUNCTION: DO NOT EDIT THIS LINE\n",
    "def affine_mean(mu, A, b):\n",
    "    \"\"\"Compute the mean after an affine transformation.\n",
    "\n",
    "    Arguments:\n",
    "        mu: Array of shape (D,). Sample mean for some dataset.\n",
    "        A: Array of shape (D, D).\n",
    "        b: Array of shape (D,).\n",
    "\n",
    "    Returns:\n",
    "        affine_mu: Array of shape (D,). Sample mean after the affine transformation.\n",
    "    \"\"\"\n",
    "\n",
    "    # Dimension of 'mu':\n",
    "    D = len(mu)\n",
    "\n",
    "    # Compute the mean after the affine transformation:\n",
    "    affine_mu = np.matmul(A, mu.reshape((D, 1)))\n",
    "    affine_mu = np.add(affine_mu, b.reshape((D, 1)))\n",
    "    affine_mu = affine_mu.reshape((D,))\n",
    "\n",
    "    return affine_mu"
   ]
  },
  {
   "cell_type": "code",
   "execution_count": null,
   "metadata": {},
   "outputs": [],
   "source": [
    "# GRADED FUNCTION: DO NOT EDIT THIS LINE\n",
    "def affine_covariance(S, A, b):\n",
    "    \"\"\"Compute the covariance matrix after an affine transformation.\n",
    "\n",
    "    Arguments:\n",
    "        S: Array of shape (D, D). Covariance matrix for some dataset.\n",
    "        A: Array of shape (D, D).\n",
    "        b: Array of shape (D,).\n",
    "           This argument is useless here. However, I cannot remove it.\n",
    "\n",
    "    Returns:\n",
    "        affine_cov: Array of shape (D, D). Covariance matrix after the affine transformation.\n",
    "    \"\"\"\n",
    "\n",
    "    # Dimensionality of the dataset:\n",
    "    D = S.shape[0]\n",
    "\n",
    "    # Compute the covariance matrix after the affine transformation:\n",
    "    affine_cov = np.matmul(S, np.transpose(A))\n",
    "    affine_cov = np.matmul(A, affine_cov)\n",
    "\n",
    "    return affine_cov"
   ]
  },
  {
   "cell_type": "code",
   "execution_count": null,
   "metadata": {},
   "outputs": [],
   "source": [
    "A = np.array([[0, 1],\n",
    "              [2, 3]])\n",
    "b = np.ones(2)\n",
    "m = np.full((2,), 2)\n",
    "S = 2 * np.eye(2)\n",
    "\n",
    "# Test the implementation of 'affine_mean':\n",
    "expected_affine_mean = np.array([3., 11.])\n",
    "assert_allclose(affine_mean(m, A, b), expected_affine_mean, rtol=1e-4)"
   ]
  },
  {
   "cell_type": "code",
   "execution_count": null,
   "metadata": {},
   "outputs": [],
   "source": [
    "# Test the implementation of 'affine_covariance':\n",
    "expected_affine_cov = np.array([[2., 6.],\n",
    "                                [6., 26.]])\n",
    "assert_allclose(affine_covariance(S, A, b), expected_affine_cov, rtol=1e-4)"
   ]
  },
  {
   "cell_type": "markdown",
   "metadata": {},
   "source": [
    "Once the two functions above are implemented, we can verify the correctness our\n",
    "implementation. Assuming that we have some $A$ and $b$."
   ]
  },
  {
   "cell_type": "code",
   "execution_count": null,
   "metadata": {},
   "outputs": [],
   "source": [
    "random = np.random.RandomState(42)\n",
    "A = random.randn(4, 4)\n",
    "b = random.randn(4)"
   ]
  },
  {
   "cell_type": "markdown",
   "metadata": {},
   "source": [
    "Next we can generate some random dataset $X$"
   ]
  },
  {
   "cell_type": "code",
   "execution_count": null,
   "metadata": {},
   "outputs": [],
   "source": [
    "X = random.randn(100, 4)"
   ]
  },
  {
   "cell_type": "markdown",
   "metadata": {},
   "source": [
    "Assuming that for some dataset $X$, the mean and covariance are $m$, $S$, and\n",
    "for the new dataset after affine transformation $X'$, the mean and covariance\n",
    "are $m'$ and $S'$, then we would have the following identity:\n",
    "\n",
    "$$m' = \\text{affine_mean}(m, A, b)$$\n",
    "\n",
    "$$S' = \\text{affine_covariance}(S, A, b)$$"
   ]
  },
  {
   "cell_type": "code",
   "execution_count": null,
   "metadata": {},
   "outputs": [],
   "source": [
    "# Applying affine transformation once:\n",
    "X1 = ((A @ (X.T)).T + b)\n",
    "# Twice:\n",
    "X2 = ((A @ (X1.T)).T + b)"
   ]
  },
  {
   "cell_type": "markdown",
   "metadata": {},
   "source": [
    "One very useful way to compare whether arrays are equal/similar is use the\n",
    "helper functions\n",
    "in `numpy.testing`.\n",
    "\n",
    "Check the Numpy\n",
    "[documentation](https://docs.scipy.org/doc/numpy-1.13.0/reference/routines.testing.html)\n",
    "for details.\n",
    "\n",
    "If you are interested in learning more about floating point arithmetic, here is\n",
    "a good [paper](http://citeseerx.ist.psu.edu/viewdoc/summary?doi=10.1.1.22.6768)."
   ]
  },
  {
   "cell_type": "code",
   "execution_count": null,
   "metadata": {},
   "outputs": [],
   "source": [
    "assert_allclose(mean(X1), affine_mean(mean(X), A, b))\n",
    "assert_allclose(cov(X1), affine_covariance(cov(X), A, b))"
   ]
  },
  {
   "cell_type": "code",
   "execution_count": null,
   "metadata": {},
   "outputs": [],
   "source": [
    "assert_allclose(mean(X2), affine_mean(mean(X1), A, b))\n",
    "assert_allclose(cov(X2), affine_covariance(cov(X1), A, b))"
   ]
  }
 ],
 "metadata": {},
 "nbformat": 4,
 "nbformat_minor": 4
}
