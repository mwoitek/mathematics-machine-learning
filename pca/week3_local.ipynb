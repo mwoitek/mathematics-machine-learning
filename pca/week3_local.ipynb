{
 "cells": [
  {
   "cell_type": "markdown",
   "metadata": {},
   "source": [
    "# Orthogonal Projections\n",
    "\n",
    "We will write functions that will implement orthogonal projections.\n",
    "\n",
    "## Learning objectives\n",
    "\n",
    "1. Write code that projects data onto lower-dimensional subspaces.\n",
    "2. Understand the real world applications of projections.\n",
    "\n",
    "As always, we will first import the packages that we need for this assignment."
   ]
  },
  {
   "cell_type": "code",
   "execution_count": null,
   "metadata": {},
   "outputs": [],
   "source": [
    "# PACKAGE: DO NOT EDIT THIS CELL\n",
    "import matplotlib\n",
    "import matplotlib.pyplot as plt\n",
    "import numpy as np\n",
    "import numpy.testing as np_test\n",
    "from ipywidgets import interact\n",
    "from numpy.testing import assert_allclose\n",
    "from sklearn.datasets import fetch_olivetti_faces\n",
    "plt.style.use('fivethirtyeight')\n",
    "%matplotlib inline"
   ]
  },
  {
   "cell_type": "markdown",
   "metadata": {},
   "source": [
    "Next, we will retrieve the Olivetti faces dataset."
   ]
  },
  {
   "cell_type": "code",
   "execution_count": null,
   "metadata": {},
   "outputs": [],
   "source": [
    "# Load faces data:\n",
    "dataset = fetch_olivetti_faces(data_home='./')\n",
    "faces = dataset.data\n",
    "\n",
    "image_shape = (64, 64)"
   ]
  },
  {
   "cell_type": "markdown",
   "metadata": {},
   "source": [
    "### Advice for testing numerical algorithms\n",
    "Before we begin this week's assignment, there are some advice that we would like\n",
    "to give for writing functions that work with numerical data. They are useful for\n",
    "finding bugs in your implementation.\n",
    "\n",
    "Testing machine learning algorithms (or numerical algorithms in general)\n",
    "is sometimes really hard as it depends on the dataset\n",
    "to produce an answer, and you will never be able to test your algorithm on all\n",
    "the datasets\n",
    "we have in the world. Nevertheless, we have some tips for you to help you\n",
    "identify bugs in\n",
    "your implementations.\n",
    "\n",
    "#### 1. Test on small dataset\n",
    "Test your algorithms on small dataset: datasets of size 1 or 2 sometimes will\n",
    "suffice. This\n",
    "is useful because you can (if necessary) compute the answers by hand and compare\n",
    "them with\n",
    "the answers produced by the computer program you wrote. In fact, these small\n",
    "datasets can even have special numbers,\n",
    "which will allow you to compute the answers by hand easily.\n",
    "\n",
    "#### 2. Find invariants\n",
    "Invariants refer to properties of your algorithm and functions that are\n",
    "maintained regardless\n",
    "of the input. We will highlight this point later in this notebook where you will\n",
    "see functions,\n",
    "which will check invariants for some of the answers you produce.\n",
    "\n",
    "Invariants you may want to look for:\n",
    "1. Does your algorithm always produce a positive/negative answer, or a positive\n",
    "definite matrix?\n",
    "2. If the algorithm is iterative, do the intermediate results increase/decrease\n",
    "monotonically?\n",
    "3. Does your solution relate with your input in some interesting way, e.g.\n",
    "orthogonality?\n",
    "\n",
    "Finding invariants is hard, and sometimes there simply isn't any invariant.\n",
    "However, DO take advantage of them if you can find them. They are the most\n",
    "powerful checks when you have them.\n",
    "\n",
    "We can find some invariants for projections. In the cell below, we have written\n",
    "two functions which check for invariants of projections. See the docstrings\n",
    "which explain what each of them does. You should use these functions to test\n",
    "your code."
   ]
  },
  {
   "cell_type": "code",
   "execution_count": null,
   "metadata": {},
   "outputs": [],
   "source": [
    "def test_property_projection_matrix(P):\n",
    "    \"\"\"Test if the projection matrix satisfies certain properties.\n",
    "       We should have P @ P = P and P = P^T.\"\"\"\n",
    "    np_test.assert_almost_equal(P, P @ P)\n",
    "    np_test.assert_almost_equal(P, P.T)\n",
    "\n",
    "\n",
    "def test_property_projection(x, p):\n",
    "    \"\"\"Test the orthogonality property of the projection p of x.\"\"\"\n",
    "    np_test.assert_almost_equal(p.T @ (p - x), 0)"
   ]
  },
  {
   "cell_type": "markdown",
   "metadata": {},
   "source": [
    "## 1. Orthogonal Projections\n",
    "\n",
    "Recall that for projection of a vector $\\boldsymbol x$ onto a 1-dimensional\n",
    "subspace $U$ with basis vector $\\boldsymbol b$ we have\n",
    "\n",
    "$${\\pi_U}(\\boldsymbol x) = \\frac{\\boldsymbol b\\boldsymbol\n",
    "b^T}{{\\lVert\\boldsymbol  b \\rVert}^2}\\boldsymbol x $$\n",
    "\n",
    "And for the general projection onto an M-dimensional subspace $U$ with basis\n",
    "vectors $\\boldsymbol b_1,\\dotsc, \\boldsymbol b_M$ we have\n",
    "\n",
    "$${\\pi_U}(\\boldsymbol x) = \\boldsymbol B(\\boldsymbol B^T\\boldsymbol\n",
    "B)^{-1}\\boldsymbol B^T\\boldsymbol x $$\n",
    "\n",
    "where\n",
    "\n",
    "$$\\boldsymbol B = [\\boldsymbol b_1,...,\\boldsymbol b_M]$$\n",
    "\n",
    "\n",
    "Your task is to implement orthogonal projections. We can split this into two\n",
    "steps\n",
    "1. Find the projection matrix $\\boldsymbol P$ that projects any $\\boldsymbol x$\n",
    "onto $U$.\n",
    "2. The projected vector $\\pi_U(\\boldsymbol x)$ of $\\boldsymbol x$ can then be\n",
    "written as $\\pi_U(\\boldsymbol x) = \\boldsymbol P\\boldsymbol x$.\n",
    "\n",
    "To perform step 1, you need to complete the function `projection_matrix_1d` and\n",
    "`projection_matrix_general`. To perform step 2, complete `project_1d` and\n",
    "`project_general`.\n",
    "\n",
    "### Projection (1d)"
   ]
  },
  {
   "cell_type": "code",
   "execution_count": null,
   "metadata": {},
   "outputs": [],
   "source": [
    "# GRADED FUNCTION: DO NOT EDIT THIS LINE\n",
    "def projection_matrix_1d(b):\n",
    "    \"\"\"Compute the projection matrix onto the subspace spanned by b.\n",
    "\n",
    "    Arguments:\n",
    "        b: Array of shape (D,). Basis for the subspace.\n",
    "\n",
    "    Returns:\n",
    "        P: Array of shape (D, D). Projection matrix.\n",
    "    \"\"\"\n",
    "\n",
    "    # Reshape b:\n",
    "    b_rsh = b.reshape((len(b), 1))\n",
    "\n",
    "    # Transpose of b:\n",
    "    trans_b = np.transpose(b_rsh)\n",
    "\n",
    "    # Compute the square of the norm of b:\n",
    "    square_norm = float(np.matmul(trans_b, b_rsh))\n",
    "\n",
    "    # Compute the projection matrix:\n",
    "    P = np.matmul(b_rsh, trans_b) / square_norm\n",
    "\n",
    "    return P"
   ]
  },
  {
   "cell_type": "markdown",
   "metadata": {},
   "source": [
    "With the help of the function projection_matrix_1d, you should be able\n",
    "to implement project_1d."
   ]
  },
  {
   "cell_type": "code",
   "execution_count": null,
   "metadata": {},
   "outputs": [],
   "source": [
    "# GRADED FUNCTION: DO NOT EDIT THIS LINE\n",
    "def project_1d(x, b):\n",
    "    \"\"\"Compute the projection of x onto the subspace spanned by b.\n",
    "\n",
    "    Arguments:\n",
    "        x: Array of shape (D,). Vector to be projected.\n",
    "        b: Array of shape (D,). Basis for the subspace.\n",
    "\n",
    "    Returns:\n",
    "        p: Array of shape (D,). Projection of x onto the subspace spanned by b.\n",
    "    \"\"\"\n",
    "\n",
    "    # Compute the projection matrix onto the subspace spanned by b:\n",
    "    P = projection_matrix_1d(b)\n",
    "\n",
    "    # Compute the projection of x onto the subspace spanned by b:\n",
    "    p = np.squeeze(np.matmul(P, x.reshape((len(x), 1))))\n",
    "\n",
    "    return p"
   ]
  },
  {
   "cell_type": "code",
   "execution_count": null,
   "metadata": {},
   "outputs": [],
   "source": [
    "# Test the implementation of 'projection_matrix_1d':\n",
    "b = np.array([1, 2, 2])\n",
    "exp_proj_matrix = np.array([[1, 2, 2],\n",
    "                            [2, 4, 4],\n",
    "                            [2, 4, 4]]) / 9\n",
    "assert_allclose(projection_matrix_1d(b), exp_proj_matrix)"
   ]
  },
  {
   "cell_type": "code",
   "execution_count": null,
   "metadata": {},
   "outputs": [],
   "source": [
    "# Test the implementation of 'project_1d':\n",
    "x = np.ones(3)\n",
    "exp_proj = np.array([5, 10, 10]) / 9\n",
    "assert_allclose(project_1d(x, b), exp_proj)"
   ]
  },
  {
   "cell_type": "markdown",
   "metadata": {},
   "source": [
    "### Projection (ND)"
   ]
  },
  {
   "cell_type": "code",
   "execution_count": null,
   "metadata": {},
   "outputs": [],
   "source": [
    "# GRADED FUNCTION: DO NOT EDIT THIS LINE\n",
    "def projection_matrix_general(B):\n",
    "    \"\"\"Compute the projection matrix onto the subspace spanned by the columns of B.\n",
    "\n",
    "    Arguments:\n",
    "        B: Array of shape (D, M).\n",
    "           The columns of B correspond to a basis for the subspace.\n",
    "\n",
    "    Returns:\n",
    "        P: Array of shape (D, D).\n",
    "           Projection matrix onto the subspace spanned by the columns of B.\n",
    "    \"\"\"\n",
    "\n",
    "    # Transpose of B:\n",
    "    trans_B = np.transpose(B)\n",
    "\n",
    "    # Compute the projection matrix onto the subspace spanned by the columns of B:\n",
    "    P = np.linalg.inv(np.matmul(trans_B, B))\n",
    "    P = np.matmul(B, P)\n",
    "    P = np.matmul(P, trans_B)\n",
    "\n",
    "    return P"
   ]
  },
  {
   "cell_type": "code",
   "execution_count": null,
   "metadata": {},
   "outputs": [],
   "source": [
    "# GRADED FUNCTION: DO NOT EDIT THIS LINE\n",
    "def project_general(x, B):\n",
    "    \"\"\"Compute the projection of x onto the subspace spanned by the columns of B.\n",
    "\n",
    "    Arguments:\n",
    "        x: Array of shape (D, 1). Vector to be projected.\n",
    "        B: Array of shape (D, M).\n",
    "           The columns of B correspond to a basis for the subspace.\n",
    "\n",
    "    Returns:\n",
    "        p: Array of shape (D, 1).\n",
    "           Projection of x onto the subspace spanned by the columns of B.\n",
    "    \"\"\"\n",
    "\n",
    "    # Compute the projection matrix onto the subspace spanned by the columns of B:\n",
    "    P = projection_matrix_general(B)\n",
    "\n",
    "    # Compute the projection of x onto the subspace spanned by the columns of B:\n",
    "    p = np.matmul(P, x)\n",
    "\n",
    "    return p"
   ]
  },
  {
   "cell_type": "markdown",
   "metadata": {},
   "source": [
    "Remember our discussion earlier about invariants? In the next cell, we will\n",
    "check that these invariants hold for the functions that you have implemented\n",
    "earlier."
   ]
  },
  {
   "cell_type": "code",
   "execution_count": null,
   "metadata": {},
   "outputs": [],
   "source": [
    "# Test the implementation of 'projection_matrix_general':\n",
    "B = np.array([[1, 0],\n",
    "              [1, 1],\n",
    "              [1, 2]])\n",
    "exp_proj_matrix = np.array([[5,  2, -1],\n",
    "                            [2,  2,  2],\n",
    "                            [-1, 2,  5]]) / 6\n",
    "assert_allclose(projection_matrix_general(B), exp_proj_matrix)"
   ]
  },
  {
   "cell_type": "code",
   "execution_count": null,
   "metadata": {},
   "outputs": [],
   "source": [
    "# Test the implementation of 'project_general':\n",
    "x = np.array([6, 0, 0]).reshape(-1, 1)\n",
    "exp_proj = np.array([5, 2, -1]).reshape(-1, 1)\n",
    "assert_allclose(project_general(x, B), exp_proj)"
   ]
  },
  {
   "cell_type": "markdown",
   "metadata": {},
   "source": [
    "## 2. Eigenfaces  (optional)\n",
    "\n",
    "Next, we will take a look at what happens if we project some dataset consisting\n",
    "of human faces onto some basis we call\n",
    "the \"eigenfaces\". You do not need to know what `eigenfaces` are for now but you\n",
    "will know what they are towards the end of the course!\n",
    "\n",
    "Let's visualize some faces in the dataset."
   ]
  },
  {
   "cell_type": "code",
   "execution_count": null,
   "metadata": {},
   "outputs": [],
   "source": [
    "plt.figure(figsize=(10, 10))\n",
    "plt.imshow(np.hstack(faces[:5].reshape(5, 64, 64)), cmap='gray');"
   ]
  },
  {
   "cell_type": "code",
   "execution_count": null,
   "metadata": {},
   "outputs": [],
   "source": [
    "# For numerical reasons, normalize the dataset:\n",
    "mean = faces.mean(axis=0)\n",
    "std = faces.std(axis=0)\n",
    "faces_normalized = (faces - mean) / std"
   ]
  },
  {
   "cell_type": "markdown",
   "metadata": {},
   "source": [
    "The data for the basis has been saved in a file named `eigenfaces.npy`, first we\n",
    "load it into the variable B."
   ]
  },
  {
   "cell_type": "code",
   "execution_count": null,
   "metadata": {},
   "outputs": [],
   "source": [
    "# We use the first 50 basis vectors. You should play around with this.\n",
    "B = np.load('eigenfaces.npy')[:50]\n",
    "print(f'Shape of the eigenfaces: {B.shape}')"
   ]
  },
  {
   "cell_type": "markdown",
   "metadata": {},
   "source": [
    "Each instance in $\\boldsymbol B$ is a 64x64 image, an \"eigenface\", which we\n",
    "determined using an algorithm called Principal Component Analysis. Let's\n",
    "visualize\n",
    "a few of those \"eigenfaces\"."
   ]
  },
  {
   "cell_type": "code",
   "execution_count": null,
   "metadata": {},
   "outputs": [],
   "source": [
    "plt.figure(figsize=(10, 10))\n",
    "plt.imshow(np.hstack(B[:5].reshape(-1, 64, 64)), cmap='gray');"
   ]
  },
  {
   "cell_type": "markdown",
   "metadata": {},
   "source": [
    "Take a look at what happens if we project our faces onto the basis $\\boldsymbol\n",
    "B$ spanned by these 50 \"eigenfaces\". In order to do this, we need to reshape\n",
    "$\\boldsymbol B$ from above, which is of size (50, 64, 64), into the same shape\n",
    "as the matrix representing the basis as we have done earlier, which is of size\n",
    "(4096, 50). Here 4096 is the dimensionality of the data and 50 is the number of\n",
    "data points.\n",
    "\n",
    "Then we can reuse the functions we implemented earlier to compute the projection\n",
    "matrix and the projection. Complete the code below to visualize the\n",
    "reconstructed faces that lie on the subspace spanned by the \"eigenfaces\"."
   ]
  },
  {
   "cell_type": "code",
   "execution_count": null,
   "metadata": {},
   "outputs": [],
   "source": [
    "@interact(i=(0, 10))\n",
    "def show_face_face_reconstruction(i):\n",
    "    original_face = faces_normalized[i].reshape(image_shape)\n",
    "    B_basis = B.reshape(B.shape[0], -1).T\n",
    "    face_reconstruction = project_general(faces_normalized[i], B_basis).reshape(image_shape)\n",
    "    plt.figure()\n",
    "    plt.imshow(np.hstack([original_face, face_reconstruction]), cmap='gray')\n",
    "    plt.show()"
   ]
  },
  {
   "cell_type": "markdown",
   "metadata": {},
   "source": [
    "What would happen to the reconstruction as we increase the dimension of our\n",
    "basis?\n",
    "\n",
    "Modify the code above to visualize it.\n",
    "\n",
    "## 3. Least squares regression (optional)\n",
    "\n",
    "Consider the case where we have a linear model for predicting housing prices. We\n",
    "are predicting the housing prices based on features in the\n",
    "housing dataset. If we denote the features as $\\boldsymbol x_0, \\dotsc,\n",
    "\\boldsymbol x_n$ and collect them into a vector $\\boldsymbol {x}$, and the price\n",
    "of the houses as $y$. Assuming that we have\n",
    "a prediction model in the way such that $\\hat{y}_i =  f(\\boldsymbol {x}_i) =\n",
    "\\boldsymbol \\theta^T\\boldsymbol {x}_i$.\n",
    "\n",
    "\n",
    "If we collect the dataset into a $(N,D)$ data matrix $\\boldsymbol X$, we can\n",
    "write down our model like this:\n",
    "\n",
    "$$\n",
    "\\begin{bmatrix}\n",
    "\\boldsymbol{x}_1^T \\\\\n",
    "\\vdots \\\\\n",
    "\\boldsymbol{x}_N^T\n",
    "\\end{bmatrix} \\boldsymbol{\\theta} = \\begin{bmatrix}\n",
    "y_1 \\\\\n",
    "\\vdots \\\\\n",
    "y_2\n",
    "\\end{bmatrix},\n",
    "$$\n",
    "\n",
    "i.e.,\n",
    "\n",
    "$$\n",
    "\\boldsymbol X\\boldsymbol{\\theta} = \\boldsymbol{y}.\n",
    "$$\n",
    "\n",
    "Note that the data points are the *rows* of the data matrix, i.e., every column\n",
    "is a dimension of the data.\n",
    "\n",
    "Our goal is to find the best $\\boldsymbol\\theta$ such that we minimize the\n",
    "following objective (least square).\n",
    "\n",
    "$$\n",
    "\\begin{eqnarray}\n",
    "& \\sum^n_{i=1}{\\lVert \\bar{y_i} - y_i \\rVert^2} \\\\\n",
    "&= \\sum^n_{i=1}{\\lVert \\boldsymbol \\theta^T\\boldsymbol{x}_i - y_i \\rVert^2} \\\\\n",
    "&= (\\boldsymbol X\\boldsymbol {\\theta} - \\boldsymbol y)^T(\\boldsymbol\n",
    "X\\boldsymbol {\\theta} - \\boldsymbol y).\n",
    "\\end{eqnarray}\n",
    "$$\n",
    "\n",
    "If we set the gradient of the above objective to $\\boldsymbol  0$, we have\n",
    "$$\n",
    "\\begin{eqnarray}\n",
    "\\nabla_\\theta(\\boldsymbol X\\boldsymbol {\\theta} - \\boldsymbol y)^T(\\boldsymbol\n",
    "X\\boldsymbol {\\theta} - \\boldsymbol y) &=& \\boldsymbol 0 \\\\\n",
    "\\nabla_\\theta(\\boldsymbol {\\theta}^T\\boldsymbol X^T - \\boldsymbol\n",
    "y^T)(\\boldsymbol X\\boldsymbol {\\theta} - \\boldsymbol y) &=& \\boldsymbol 0 \\\\\n",
    "\\nabla_\\theta(\\boldsymbol {\\theta}^T\\boldsymbol X^T\\boldsymbol X\\boldsymbol\n",
    "{\\theta} - \\boldsymbol y^T\\boldsymbol X\\boldsymbol \\theta - \\boldsymbol\n",
    "\\theta^T\\boldsymbol X^T\\boldsymbol y + \\boldsymbol y^T\\boldsymbol y ) &=&\n",
    "\\boldsymbol 0 \\\\\n",
    "2\\boldsymbol X^T\\boldsymbol X\\theta - 2\\boldsymbol X^T\\boldsymbol y &=&\n",
    "\\boldsymbol 0 \\\\\n",
    "\\boldsymbol X^T\\boldsymbol X\\boldsymbol \\theta        &=& \\boldsymbol\n",
    "X^T\\boldsymbol y.\n",
    "\\end{eqnarray}\n",
    "$$\n",
    "\n",
    "The solution that gives zero gradient solves (which we call the maximum\n",
    "likelihood estimator) the following equation:\n",
    "\n",
    "$$\\boldsymbol X^T\\boldsymbol X\\boldsymbol \\theta = \\boldsymbol X^T\\boldsymbol\n",
    "y.$$\n",
    "\n",
    "_This is exactly the same as the normal equation we have for projections_.\n",
    "\n",
    "This means that if we solve for $\\boldsymbol X^T\\boldsymbol X\\boldsymbol \\theta\n",
    "= \\boldsymbol X^T\\boldsymbol y.$ we would find the best $\\boldsymbol \\theta =\n",
    "(\\boldsymbol X^T\\boldsymbol X)^{-1}\\boldsymbol X^T\\boldsymbol y$, i.e. the\n",
    "$\\boldsymbol \\theta$ which minimizes our objective.\n",
    "\n",
    "Let's put things into perspective. Consider that we want to predict the true\n",
    "coefficient $\\boldsymbol \\theta$\n",
    "of the line $\\boldsymbol y = \\boldsymbol \\theta^T \\boldsymbol x$ given only\n",
    "$\\boldsymbol X$ and $\\boldsymbol y$. We do not know the true value of\n",
    "$\\boldsymbol \\theta$.\n",
    "\n",
    "Note: In this particular example, $\\boldsymbol \\theta$ is a scalar. Still, we\n",
    "can represent it as an $\\mathbb{R}^1$ vector."
   ]
  },
  {
   "cell_type": "code",
   "execution_count": null,
   "metadata": {},
   "outputs": [],
   "source": [
    "x = np.linspace(0, 10, num=50)\n",
    "theta = 2\n",
    "def f(x):\n",
    "    random = np.random.RandomState(42) # we use the same random seed so we get deterministic output\n",
    "    return theta * x + random.normal(scale=1.0, size=len(x)) # our observations are corrupted by some noise, so that we do not get (x,y) on a line\n",
    "\n",
    "y = f(x)\n",
    "plt.scatter(x, y);\n",
    "plt.xlabel('x');\n",
    "plt.ylabel('y');"
   ]
  },
  {
   "cell_type": "code",
   "execution_count": null,
   "metadata": {},
   "outputs": [],
   "source": [
    "X = x.reshape(-1,1) # size N x 1\n",
    "Y = y.reshape(-1,1) # size N x 1\n",
    "\n",
    "# maximum likelihood estimator\n",
    "theta_hat = np.linalg.solve(X.T @ X, X.T @ Y)"
   ]
  },
  {
   "cell_type": "markdown",
   "metadata": {},
   "source": [
    "We can show how our $\\hat{\\boldsymbol  \\theta}$ fits the line."
   ]
  },
  {
   "cell_type": "code",
   "execution_count": null,
   "metadata": {},
   "outputs": [],
   "source": [
    "fig, ax = plt.subplots()\n",
    "ax.scatter(x, y);\n",
    "xx = [0, 10]\n",
    "yy = [0, 10 * theta_hat[0,0]]\n",
    "ax.plot(xx, yy, 'red', alpha=.5);\n",
    "ax.set(xlabel='x', ylabel='y');\n",
    "print(\"theta = %f\" % theta)\n",
    "print(\"theta_hat = %f\" % theta_hat)"
   ]
  },
  {
   "cell_type": "markdown",
   "metadata": {},
   "source": [
    "What would happend to $\\lVert \\hat{\\boldsymbol  \\theta} - \\boldsymbol \\theta\n",
    "\\rVert$ if we increase the number of datapoints?\n",
    "\n",
    "Make your hypothesis, and write a small program to confirm it!"
   ]
  },
  {
   "cell_type": "code",
   "execution_count": null,
   "metadata": {},
   "outputs": [],
   "source": [
    "N = np.arange(2, 10000, step=10)\n",
    "# Your code comes here, which calculates \\hat{\\theta} for different dataset sizes.\n",
    "\n",
    "theta_error = np.zeros(N.shape)\n",
    "\n",
    "theta_error = np.ones(N.shape) # <-- EDIT THIS\n",
    "\n",
    "\n",
    "plt.plot(theta_error)\n",
    "plt.xlabel(\"dataset size\")\n",
    "plt.ylabel(\"parameter error\");"
   ]
  }
 ],
 "metadata": {},
 "nbformat": 4,
 "nbformat_minor": 4
}
