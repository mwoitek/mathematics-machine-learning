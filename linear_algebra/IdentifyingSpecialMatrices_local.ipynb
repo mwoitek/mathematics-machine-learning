{
 "cells": [
  {
   "cell_type": "markdown",
   "metadata": {},
   "source": [
    "# Identifying special matrices\n",
    "## Instructions\n",
    "In this assignment, you shall write a function that will test if a 4×4 matrix is\n",
    "singular, i.e. to determine if an inverse exists, before calculating it.\n",
    "\n",
    "You shall use the method of converting a matrix to echelon form, and testing if\n",
    "this fails by leaving zeros that can’t be removed on the leading diagonal.\n",
    "\n",
    "Don't worry if you've not coded before, a framework for the function has already\n",
    "been written.\n",
    "Look through the code, and you'll be instructed where to make changes.\n",
    "We'll do the first two rows, and you can use this as a guide to do the last two.\n",
    "\n",
    "### Matrices in Python\n",
    "In the *numpy* package in Python, matrices are indexed using zero for the top-\n",
    "most column and left-most row.\n",
    "I.e., the matrix structure looks like this:"
   ]
  },
  {
   "cell_type": "code",
   "execution_count": null,
   "metadata": {},
   "outputs": [],
   "source": [
    "A[0, 0]  A[0, 1]  A[0, 2]  A[0, 3]\n",
    "A[1, 0]  A[1, 1]  A[1, 2]  A[1, 3]\n",
    "A[2, 0]  A[2, 1]  A[2, 2]  A[2, 3]\n",
    "A[3, 0]  A[3, 1]  A[3, 2]  A[3, 3]"
   ]
  },
  {
   "cell_type": "markdown",
   "metadata": {},
   "source": [
    "You can access the value of each element individually using,"
   ]
  },
  {
   "cell_type": "code",
   "execution_count": null,
   "metadata": {},
   "outputs": [],
   "source": [
    "A[n, m]"
   ]
  },
  {
   "cell_type": "markdown",
   "metadata": {},
   "source": [
    "which will give the n'th row and m'th column (starting with zero).\n",
    "You can also access a whole row at a time using,"
   ]
  },
  {
   "cell_type": "code",
   "execution_count": null,
   "metadata": {},
   "outputs": [],
   "source": [
    "A[n]"
   ]
  },
  {
   "cell_type": "markdown",
   "metadata": {},
   "source": [
    "Which you will see will be useful when calculating linear combinations of rows.\n",
    "\n",
    "A final note - Python is sensitive to indentation.\n",
    "All the code you should complete will be at the same level of indentation as the\n",
    "instruction comment.\n",
    "\n",
    "### How to submit\n",
    "Edit the code in the cell below to complete the assignment.\n",
    "Once you are finished and happy with it, press the *Submit Assignment* button at\n",
    "the top of this notebook.\n",
    "\n",
    "Please don't change any of the function names, as these will be checked by the\n",
    "grading script.\n",
    "\n",
    "If you have further questions about submissions or programming assignments, here\n",
    "is a [list](https://www.coursera.org/learn/linear-algebra-machine-\n",
    "learning/discussions/weeks/1/threads/jB4klkn5EeibtBIQyzFmQg) of Q&A. You can\n",
    "also raise an issue on the discussion forum. Good luck!"
   ]
  },
  {
   "cell_type": "code",
   "execution_count": null,
   "metadata": {},
   "outputs": [],
   "source": [
    "# GRADED FUNCTION\n",
    "import numpy as np\n",
    "\n",
    "\n",
    "# Our function will go through the matrix replacing each row in order turning\n",
    "# it into echelon form. If at any point it fails because it can't put a 1 in\n",
    "# the leading diagonal, we will return the value True, otherwise, we will\n",
    "# return False. There is no need to edit this function.\n",
    "def isSingular(A):\n",
    "    # Make B as a copy of A, since we're going to alter its values:\n",
    "    B = np.array(A, dtype=np.float_)\n",
    "    try:\n",
    "        fixRowZero(B)\n",
    "        fixRowOne(B)\n",
    "        fixRowTwo(B)\n",
    "        fixRowThree(B)\n",
    "    except MatrixIsSingular:\n",
    "        return True\n",
    "    return False\n",
    "\n",
    "\n",
    "# This next line defines our error flag for when things go wrong if the matrix\n",
    "# is singular. There is no need to edit this line.\n",
    "class MatrixIsSingular(Exception):\n",
    "    pass\n",
    "\n",
    "\n",
    "# For row zero, all we require is the first element is equal to 1. We'll\n",
    "# divide the row by the value of A[0, 0]. This will get us in trouble though\n",
    "# if A[0, 0] equals 0. So first we'll test for that, and if this is true, we'll\n",
    "# add one of the lower rows to the first one before the division. We'll repeat\n",
    "# the test going down each lower row until we can do the division.\n",
    "def fixRowZero(A):\n",
    "    if A[0, 0] == 0:\n",
    "        A[0] += A[1]\n",
    "    if A[0, 0] == 0:\n",
    "        A[0] += A[2]\n",
    "    if A[0, 0] == 0:\n",
    "        A[0] += A[3]\n",
    "    if A[0, 0] == 0:\n",
    "        raise MatrixIsSingular()\n",
    "    A[0] /= A[0, 0]\n",
    "    return A\n",
    "\n",
    "\n",
    "# First we'll set the sub-diagonal element (i.e., A[1, 0]) to zero. Next we\n",
    "# want the diagonal element to be equal to one. We'll divide the row by the\n",
    "# value of A[1, 1]. Again, we need to test if this is zero. If so, we'll add\n",
    "# a lower row and repeat setting the sub-diagonal element to zero.\n",
    "def fixRowOne(A):\n",
    "    A[1] -= A[1, 0] * A[0]\n",
    "    if A[1, 1] == 0:\n",
    "        A[1] += A[2]\n",
    "        A[1] -= A[1, 0] * A[0]\n",
    "    if A[1, 1] == 0:\n",
    "        A[1] += A[3]\n",
    "        A[1] -= A[1, 0] * A[0]\n",
    "    if A[1, 1] == 0:\n",
    "        raise MatrixIsSingular()\n",
    "    A[1] /= A[1, 1]\n",
    "    return A\n",
    "\n",
    "\n",
    "def fixRowTwo(A):\n",
    "\n",
    "    # Set the sub-diagonal elements of row two to zero:\n",
    "    A[2] -= A[2, 0] * A[0]\n",
    "    A[2] -= A[2, 1] * A[1]\n",
    "\n",
    "    # Test that the diagonal element is not zero:\n",
    "    if A[2, 2] == 0:\n",
    "        # Add a lower row to row two:\n",
    "        A[2] += A[3]\n",
    "        # Set the sub-diagonal elements of row two to zero:\n",
    "        A[2] -= A[2, 0] * A[0]\n",
    "        A[2] -= A[2, 1] * A[1]\n",
    "\n",
    "    if A[2, 2] == 0:\n",
    "        raise MatrixIsSingular()\n",
    "\n",
    "    # Set the diagonal element to one by dividing the whole row by that element:\n",
    "    A[2] /= A[2, 2]\n",
    "\n",
    "    return A\n",
    "\n",
    "\n",
    "def fixRowThree(A):\n",
    "\n",
    "    # Set the sub-diagonal elements of row three to zero:\n",
    "    A[3] -= A[3, 0] * A[0]\n",
    "    A[3] -= A[3, 1] * A[1]\n",
    "    A[3] -= A[3, 2] * A[2]\n",
    "\n",
    "    # Test that the diagonal element is not zero:\n",
    "    if A[3, 3] == 0:\n",
    "        raise MatrixIsSingular()\n",
    "\n",
    "    # Set the diagonal element to one by dividing the whole row by that element:\n",
    "    A[3] /= A[3, 3]\n",
    "\n",
    "    return A"
   ]
  },
  {
   "cell_type": "markdown",
   "metadata": {},
   "source": [
    "## Test your code before submission\n",
    "To test the code you've written above, run the cell (select the cell above, then\n",
    "press the play button [ ▶| ] or press shift-enter).\n",
    "You can then use the code below to test out your function.\n",
    "You don't need to submit this cell; you can edit and run it as much as you like.\n",
    "\n",
    "Try out your code on tricky test cases!"
   ]
  },
  {
   "cell_type": "code",
   "execution_count": null,
   "metadata": {},
   "outputs": [],
   "source": [
    "A = np.array([[2, 0, 0, 0],\n",
    "              [0, 3, 0, 0],\n",
    "              [0, 0, 4, 4],\n",
    "              [0, 0, 5, 5]], dtype=np.float_)\n",
    "isSingular(A)"
   ]
  },
  {
   "cell_type": "code",
   "execution_count": null,
   "metadata": {},
   "outputs": [],
   "source": [
    "A = np.array([[0, 7, -5, 3],\n",
    "              [2, 8,  0, 4],\n",
    "              [3, 12, 0, 5],\n",
    "              [1, 3,  1, 3]], dtype=np.float_)\n",
    "fixRowZero(A)"
   ]
  },
  {
   "cell_type": "code",
   "execution_count": null,
   "metadata": {},
   "outputs": [],
   "source": [
    "fixRowOne(A)"
   ]
  },
  {
   "cell_type": "code",
   "execution_count": null,
   "metadata": {},
   "outputs": [],
   "source": [
    "fixRowTwo(A)"
   ]
  },
  {
   "cell_type": "code",
   "execution_count": null,
   "metadata": {},
   "outputs": [],
   "source": [
    "fixRowThree(A)"
   ]
  }
 ],
 "metadata": {},
 "nbformat": 4,
 "nbformat_minor": 4
}
