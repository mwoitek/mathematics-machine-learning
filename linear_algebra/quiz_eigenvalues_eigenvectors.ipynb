{
 "cells": [
  {
   "cell_type": "markdown",
   "metadata": {},
   "source": [
    "# Quiz - Eigenvalues and Eigenvectors\n",
    "\n",
    "## Imports"
   ]
  },
  {
   "cell_type": "code",
   "execution_count": 1,
   "metadata": {},
   "outputs": [],
   "source": [
    "import numpy as np\n",
    "import numpy.linalg as la\n",
    "\n",
    "\n",
    "np.set_printoptions(precision=3, suppress=True)"
   ]
  },
  {
   "cell_type": "markdown",
   "metadata": {},
   "source": [
    "## Helper Function"
   ]
  },
  {
   "cell_type": "code",
   "execution_count": 2,
   "metadata": {},
   "outputs": [],
   "source": [
    "def print_eigen(M):\n",
    "    \"\"\"Print the eigenvalues and eigenvectors of a square matrix M.\"\"\"\n",
    "\n",
    "    # Compute the eigenvalues and eigenvectors of M:\n",
    "    eigenvals, eigenvecs = la.eig(M)\n",
    "\n",
    "    # Reorganize (in descending order) the eigenvalues and eigenvectors\n",
    "    # according to the magnitude of the eigenvalues:\n",
    "    order = np.absolute(eigenvals).argsort()[::-1]\n",
    "    eigenvals = eigenvals[order]\n",
    "    eigenvecs = eigenvecs[:, order]\n",
    "\n",
    "    # Print every eigenvalue and the corresponding eigenvector:\n",
    "    for i in range(len(eigenvals)):\n",
    "        print(f'\\nEigenvalue {i + 1}:  {eigenvals[i]:.3E}')\n",
    "        print(f'Eigenvector {i + 1}: {eigenvecs[:, i]}\\n')"
   ]
  },
  {
   "cell_type": "markdown",
   "metadata": {},
   "source": [
    "## Question 2"
   ]
  },
  {
   "cell_type": "code",
   "execution_count": 3,
   "metadata": {},
   "outputs": [
    {
     "name": "stdout",
     "output_type": "stream",
     "text": [
      "\n",
      "Eigenvalue 1:  -1.000E+00+0.000E+00j\n",
      "Eigenvector 1: [-0.5+0.j  0.5+0.j -0.5+0.j  0.5+0.j]\n",
      "\n",
      "\n",
      "Eigenvalue 2:  5.551E-17-1.000E+00j\n",
      "Eigenvector 2: [ 0.5+0.j  -0. +0.5j -0.5-0.j   0. -0.5j]\n",
      "\n",
      "\n",
      "Eigenvalue 3:  5.551E-17+1.000E+00j\n",
      "Eigenvector 3: [ 0.5-0.j  -0. -0.5j -0.5+0.j   0. +0.5j]\n",
      "\n",
      "\n",
      "Eigenvalue 4:  1.000E+00+0.000E+00j\n",
      "Eigenvector 4: [-0.5+0.j -0.5+0.j -0.5+0.j -0.5+0.j]\n",
      "\n"
     ]
    }
   ],
   "source": [
    "L = np.array([[0, 0, 0, 1],\n",
    "              [1, 0, 0, 0],\n",
    "              [0, 1, 0, 0],\n",
    "              [0, 0, 1, 0]])\n",
    "print_eigen(L)"
   ]
  },
  {
   "cell_type": "markdown",
   "metadata": {},
   "source": [
    "## Question 3"
   ]
  },
  {
   "cell_type": "code",
   "execution_count": 4,
   "metadata": {},
   "outputs": [
    {
     "name": "stdout",
     "output_type": "stream",
     "text": [
      "\n",
      "Eigenvalue 1:  1.000E+00+0.000E+00j\n",
      "Eigenvector 1: [0.5+0.j 0.5+0.j 0.5+0.j 0.5+0.j]\n",
      "\n",
      "\n",
      "Eigenvalue 2:  -5.551E-17-6.000E-01j\n",
      "Eigenvector 2: [ 0. +0.5j -0.5-0.j  -0. -0.5j  0.5-0.j ]\n",
      "\n",
      "\n",
      "Eigenvalue 3:  -5.551E-17+6.000E-01j\n",
      "Eigenvector 3: [ 0. -0.5j -0.5+0.j  -0. +0.5j  0.5+0.j ]\n",
      "\n",
      "\n",
      "Eigenvalue 4:  -6.000E-01+0.000E+00j\n",
      "Eigenvector 4: [ 0.5+0.j -0.5+0.j  0.5+0.j -0.5+0.j]\n",
      "\n"
     ]
    }
   ],
   "source": [
    "L = np.array([[0.1, 0.1, 0.1, 0.7],\n",
    "              [0.7, 0.1, 0.1, 0.1],\n",
    "              [0.1, 0.7, 0.1, 0.1],\n",
    "              [0.1, 0.1, 0.7, 0.1]])\n",
    "print_eigen(L)"
   ]
  },
  {
   "cell_type": "markdown",
   "metadata": {},
   "source": [
    "## Question 4"
   ]
  },
  {
   "cell_type": "code",
   "execution_count": 5,
   "metadata": {},
   "outputs": [
    {
     "name": "stdout",
     "output_type": "stream",
     "text": [
      "\n",
      "Eigenvalue 1:  -1.000E+00\n",
      "Eigenvector 1: [ 0.     0.    -0.707  0.707]\n",
      "\n",
      "\n",
      "Eigenvalue 2:  1.000E+00\n",
      "Eigenvector 2: [0.    0.    0.707 0.707]\n",
      "\n",
      "\n",
      "Eigenvalue 3:  -1.000E+00\n",
      "Eigenvector 3: [-0.707  0.707  0.     0.   ]\n",
      "\n",
      "\n",
      "Eigenvalue 4:  1.000E+00\n",
      "Eigenvector 4: [0.707 0.707 0.    0.   ]\n",
      "\n",
      "Determinant of L: 1.0\n",
      "\n"
     ]
    }
   ],
   "source": [
    "L = np.array([[0, 1, 0, 0],\n",
    "              [1, 0, 0, 0],\n",
    "              [0, 0, 0, 1],\n",
    "              [0, 0, 1, 0]])\n",
    "print_eigen(L)\n",
    "\n",
    "print(f'Determinant of L: {la.det(L)}\\n')"
   ]
  },
  {
   "cell_type": "markdown",
   "metadata": {},
   "source": [
    "## Question 5"
   ]
  },
  {
   "cell_type": "code",
   "execution_count": 6,
   "metadata": {},
   "outputs": [
    {
     "name": "stdout",
     "output_type": "stream",
     "text": [
      "\n",
      "Eigenvalue 1:  1.000E+00\n",
      "Eigenvector 1: [-0.5 -0.5 -0.5 -0.5]\n",
      "\n",
      "\n",
      "Eigenvalue 2:  -6.000E-01\n",
      "Eigenvector 2: [-0.056  0.056 -0.705  0.705]\n",
      "\n",
      "\n",
      "Eigenvalue 3:  -6.000E-01\n",
      "Eigenvector 3: [ 0.707 -0.707  0.     0.   ]\n",
      "\n",
      "\n",
      "Eigenvalue 4:  6.000E-01\n",
      "Eigenvector 4: [-0.5 -0.5  0.5  0.5]\n",
      "\n"
     ]
    }
   ],
   "source": [
    "# Number of websites:\n",
    "num_sites = 4\n",
    "\n",
    "# Damping parameter:\n",
    "d = 0.6\n",
    "\n",
    "# Damped matrix:\n",
    "M = d * L + (1 - d) / num_sites\n",
    "\n",
    "print_eigen(M)"
   ]
  }
 ],
 "metadata": {
  "jupytext": {
   "formats": "ipynb,Rmd"
  },
  "kernelspec": {
   "display_name": "Python 3",
   "language": "python",
   "name": "python3"
  },
  "language_info": {
   "codemirror_mode": {
    "name": "ipython",
    "version": 3
   },
   "file_extension": ".py",
   "mimetype": "text/x-python",
   "name": "python",
   "nbconvert_exporter": "python",
   "pygments_lexer": "ipython3",
   "version": "3.7.1"
  }
 },
 "nbformat": 4,
 "nbformat_minor": 4
}
