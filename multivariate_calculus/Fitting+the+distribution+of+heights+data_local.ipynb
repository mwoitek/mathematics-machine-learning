{
 "cells": [
  {
   "cell_type": "markdown",
   "metadata": {},
   "source": [
    "# Fitting the distribution of heights data\n",
    "## Instructions\n",
    "\n",
    "In this assessment you will write code to perform a steepest descent to fit a\n",
    "Gaussian model to the distribution of heights data that was first introduced in\n",
    "*Mathematics for Machine Learning: Linear Algebra*.\n",
    "\n",
    "The algorithm is the same as you encountered in *Gradient descent in a sandpit*\n",
    "but this time instead of descending a pre-defined function, we shall descend the\n",
    "$\\chi^2$ (chi squared) function which is both a function of the parameters that\n",
    "we are to optimize, but also the data that the model is to fit to.\n",
    "\n",
    "## How to submit\n",
    "\n",
    "Complete all the tasks you are asked for in the worksheet. When you have\n",
    "finished and are happy with your code, press the **Submit Assignment** button at\n",
    "the top of this notebook.\n",
    "\n",
    "## Get started\n",
    "Run the cell below to load dependencies and generate the first figure in this\n",
    "worksheet."
   ]
  },
  {
   "cell_type": "code",
   "execution_count": null,
   "metadata": {},
   "outputs": [],
   "source": [
    "# Load the dependencies for this assessment, and generate the first figure:\n",
    "from readonly.HeightsModule import *"
   ]
  },
  {
   "cell_type": "markdown",
   "metadata": {},
   "source": [
    "## Background\n",
    "If we have data for the heights of people in a population, it can be plotted as\n",
    "a histogram, i.e., a bar chart where each bar has a width representing a range\n",
    "of heights, and an area which is the probability of finding a person with a\n",
    "height in that range.\n",
    "We can look to model that data with a function, such as a Gaussian, which we can\n",
    "specify with two parameters, rather than holding all the data in the histogram.\n",
    "\n",
    "The Gaussian function is given as,\n",
    "$$f(\\mathbf{x};\\mu, \\sigma) =\n",
    "\\frac{1}{\\sigma\\sqrt{2\\pi}}\\exp\\left(-\\frac{(\\mathbf{x} -\n",
    "\\mu)^2}{2\\sigma^2}\\right)$$\n",
    "\n",
    "The figure above shows the data in orange, the model in magenta, and where they\n",
    "overlap in green.\n",
    "This particular model has not been fit well - there is not a strong overlap.\n",
    "\n",
    "Recall from the videos the definition of $\\chi^2$ as the squared difference of\n",
    "the data and the model, i.e $\\chi^2 = |\\mathbf{y} - f(\\mathbf{x};\\mu,\n",
    "\\sigma)|^2$. This is represented in the figure as the sum of the squares of the\n",
    "pink and orange bars.\n",
    "\n",
    "Don't forget that $\\mathbf{x}$ an $\\mathbf{y}$ are represented as vectors here,\n",
    "as these are lists of all of the data points, the |*abs-squared*|${}^2$ encodes\n",
    "squaring and summing of the residuals on each bar.\n",
    "\n",
    "To improve the fit, we will want to alter the parameters $\\mu$ and $\\sigma$, and\n",
    "ask how that changes the $\\chi^2$.\n",
    "That is, we will need to calculate the Jacobian,\n",
    "$$ \\mathbf{J} = \\left[ \\frac{\\partial ( \\chi^2 ) }{\\partial \\mu} ,\n",
    "\\frac{\\partial ( \\chi^2 ) }{\\partial \\sigma} \\right]\\;. $$\n",
    "\n",
    "Let's look at the first term, $\\frac{\\partial ( \\chi^2 ) }{\\partial \\mu}$, using\n",
    "the multi-variate chain rule, this can be written as,\n",
    "$$ \\frac{\\partial ( \\chi^2 ) }{\\partial \\mu} = -2 (\\mathbf{y} -\n",
    "f(\\mathbf{x};\\mu, \\sigma)) \\cdot \\frac{\\partial f}{\\partial \\mu}(\\mathbf{x};\\mu,\n",
    "\\sigma)$$\n",
    "With a similar expression for $\\frac{\\partial ( \\chi^2 ) }{\\partial \\sigma}$;\n",
    "try and work out this expression for yourself.\n",
    "\n",
    "The Jacobians rely on the derivatives $\\frac{\\partial f}{\\partial \\mu}$ and\n",
    "$\\frac{\\partial f}{\\partial \\sigma}$.\n",
    "Write functions below for these."
   ]
  },
  {
   "cell_type": "code",
   "execution_count": null,
   "metadata": {},
   "outputs": [],
   "source": [
    "# PACKAGE\n",
    "import matplotlib.pyplot as plt\n",
    "import numpy as np"
   ]
  },
  {
   "cell_type": "code",
   "execution_count": null,
   "metadata": {},
   "outputs": [],
   "source": [
    "# GRADED FUNCTION\n",
    "\n",
    "def f(x, mu, sigma):\n",
    "    \"\"\"Gaussian function.\"\"\"\n",
    "    return np.exp(- (x - mu) ** 2 / (2 * sigma ** 2)) / np.sqrt(2 * np.pi) / sigma\n",
    "\n",
    "\n",
    "def dfdmu(x, mu, sigma):\n",
    "    \"\"\"Derivative of the Gaussian function with respect to mu.\"\"\"\n",
    "    return f(x, mu, sigma) * ((x - mu) / (sigma ** 2))\n",
    "\n",
    "\n",
    "def dfdsig(x, mu, sigma):\n",
    "    \"\"\"Derivative of the Gaussian function with respect to sigma.\"\"\"\n",
    "    return (f(x, mu, sigma) / sigma) * (((x - mu) / sigma) ** 2 - 1)"
   ]
  },
  {
   "cell_type": "markdown",
   "metadata": {},
   "source": [
    "Next recall that steepest descent shall move around in parameter space\n",
    "proportional to the negative of the Jacobian,\n",
    "i.e., $\\begin{bmatrix} \\delta\\mu \\\\ \\delta\\sigma \\end{bmatrix} \\propto\n",
    "-\\mathbf{J} $, with the constant of proportionality being the *aggression* of\n",
    "the algorithm.\n",
    "\n",
    "Modify the function below to include the $\\frac{\\partial ( \\chi^2 ) }{\\partial\n",
    "\\sigma}$ term of the Jacobian, the $\\frac{\\partial ( \\chi^2 ) }{\\partial \\mu}$\n",
    "term has been included for you."
   ]
  },
  {
   "cell_type": "code",
   "execution_count": null,
   "metadata": {},
   "outputs": [],
   "source": [
    "# GRADED FUNCTION\n",
    "\n",
    "def steepest_step(x, y, mu, sigma, aggression):\n",
    "\n",
    "    tmp = -2 * (y - f(x, mu, sigma))\n",
    "    J = np.array([tmp @ dfdmu(x, mu, sigma), tmp @ dfdsig(x, mu, sigma)])\n",
    "    step = -J * aggression\n",
    "\n",
    "    return step"
   ]
  },
  {
   "cell_type": "markdown",
   "metadata": {},
   "source": [
    "## Test your code before submission\n",
    "To test the code you've written above, run all previous cells (select each cell,\n",
    "then press the play button [ ▶| ] or press shift-enter).\n",
    "You can then use the code below to test out your function.\n",
    "You don't need to submit these cells; you can edit and run them as much as you\n",
    "like."
   ]
  },
  {
   "cell_type": "code",
   "execution_count": null,
   "metadata": {},
   "outputs": [],
   "source": [
    "# Get the heights data, ranges and frequencies:\n",
    "x, y = heights_data()\n",
    "\n",
    "# Assign trial values to mu and sigma:\n",
    "mu    = 155\n",
    "sigma = 6\n",
    "\n",
    "# We'll keep track of mu and sigma so we can plot their evolution.\n",
    "p = np.array([[mu, sigma]])\n",
    "\n",
    "# Plot the histogram for our parameter guess:\n",
    "histogram(f, [mu, sigma])\n",
    "\n",
    "# Do a few rounds of steepest descent:\n",
    "for i in range(50):\n",
    "    dmu, dsigma = steepest_step(x, y, mu, sigma, 2000)\n",
    "    mu += dmu\n",
    "    sigma += dsigma\n",
    "    p = np.append(p, [[mu, sigma]], axis=0)\n",
    "\n",
    "# Plot the path through parameter space:\n",
    "contour(f, p)\n",
    "\n",
    "# Plot the final histogram:\n",
    "histogram(f, [mu, sigma])"
   ]
  },
  {
   "cell_type": "markdown",
   "metadata": {},
   "source": [
    "Note that the path taken through parameter space is not necessarily the most\n",
    "direct path, as with steepest descent we always move perpendicular to the\n",
    "contours."
   ]
  }
 ],
 "metadata": {},
 "nbformat": 4,
 "nbformat_minor": 4
}
